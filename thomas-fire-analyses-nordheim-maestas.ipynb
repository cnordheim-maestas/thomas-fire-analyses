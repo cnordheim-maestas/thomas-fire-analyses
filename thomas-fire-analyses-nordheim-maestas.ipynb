{
 "cells": [
  {
   "cell_type": "markdown",
   "metadata": {},
   "source": [
    "# Title: Thomas Fire Analysis: AQI and False Color Image\n",
    "By Caitlin Nordheim-Maestas\n",
    "\n",
    "You can find more information on my GitHub Repository: https://github.com/cnordheim-maestas/thomas-fire-analyses.git"
   ]
  },
  {
   "cell_type": "markdown",
   "metadata": {},
   "source": [
    "## About\n",
    "\n",
    "A wildfire named the Thomas Fire in Santa Barbara County occurred in December 2017 and continued through mid January 2018. human impact background. aqi background. false color image background. \n",
    "\n",
    "### Purpose\n",
    "\n",
    "We are looking into how the Air Quality Index may have changed throughout 2017 and 2018 in relation to the fire, and we are looking at in relation to the geographic location of the fire by overlaying the Thomas fire perimeter over a false color image of the surrounding area to look at the short-wave infrared (swir22) and near-infrared values. To look at the AQI throughout time,  calculate the rolling 5-day average AQI, then observe the average AQI and AQI readings over time, looking closely at December 2017 and January 2018. \n",
    "\n",
    "## Highlights of analyses\n",
    "### Part 1: AQI Timeseries Analysis\n",
    "- Import and clean timeseries data in geographical area of interest\n",
    "- Calculate the rolling average AQI over a 5 day timespan\n",
    "- Visualize the average AQI and AQI readings over time\n",
    "\n",
    "### Part 2: False Color Map Spatial Analysis\n",
    "- Import and clean timeseries data in geographical area of interest\n",
    "- Calculate the roling average AQI over a 5 day timespan\n",
    "- Visualize the average AQI and AQI readings over time\n",
    "\n",
    "## Dataset descriptions\n",
    "\n",
    "AQI Data:\n",
    "\n",
    "we will use the AQI data collected from the United States Environmental Protection Agency Air Data (citation below) from 2017 and 2018. We will combine the datasets, select only the observations from Santa Barbara County. I will be using this data for Santa Barbara County for the years 2017 and 2018.\n",
    "\n",
    "Landsat Collection 2:\n",
    "\n",
    "To create the false color image to elucidate any patterns with the Thomas fire's location, we will utilize the United States Geological Survey Landsat Missions data hosted by Microsoft Planetary Computer (citation below). The data is created and curated by ..... I will be using this data for Santa Barbara County.\n",
    "\n",
    "California Fire Perimeters:\n",
    "\n",
    "We will plot the false color image, and overlay it with the perimeter of the Thomas fire. The Thomas fire perimeter is from the California Department of Forestry and Fire Protection (citation below), and we will first ensure it is in the same coordinate reference system as the Landsat data, then select only the data about the Thomas Fire, then we will overlay it with the map to look for patterns. I will be using a shapefile of only the Thomas Fire for this analysis.\n",
    "\n",
    "### Data citations\n",
    "\n",
    "United States Environmental Protection Agency Air Data (2023), daily_aqi_by_cbsa_2017.zip [Data file] Available from: https://aqs.epa.gov/aqsweb/airdata/download_files.html#AQI. Access date: 11.27.2023.\n",
    "\n",
    "United States Geological Survey Landsat Missions hosted by Microsoft Planetary Computer (2023), Landsat Collection 2 Level-2 [Data file] Available from: https://planetarycomputer.microsoft.com/dataset/landsat-c2-l2. Access date: 11.27.2023.\n",
    "\n",
    "California Department of Forestry and Fire Protection (2023), California Fire Perimeters (all) [Data file] Available from: https://gis.data.ca.gov/datasets/CALFIRE-Forestry::california-fire-perimeters-all-1/about. Access date: 11.27.2023."
   ]
  },
  {
   "cell_type": "markdown",
   "metadata": {},
   "source": [
    "## Contents\n",
    "1. AQI Timeseries Analysis\n",
    " - 1A: AQI Import Libraries and Data Access \n",
    " - 1B: AQI Data Cleaning & Geographical Context\n",
    " - 1C: AQI Data Exploration\n",
    " - 1D: AQI Data Analysis\n",
    " - 1E: AQI Data Visualization\n",
    " \n",
    "2. False Color Map Spatial Analysis\n",
    " - 1A: AQI Import Libraries and Data Access \n",
    " - 1B: AQI Geographical context & Data Cleaning\n",
    " - 1C: AQI Data exploration\n",
    " - 1D: AQI Data visualization\n",
    " \n",
    "3. Final Output"
   ]
  },
  {
   "cell_type": "markdown",
   "metadata": {},
   "source": [
    "## 1. AQI Timeseries Analysis"
   ]
  },
  {
   "cell_type": "markdown",
   "metadata": {},
   "source": [
    "### 1A: AQI Import Libraries and Data Access"
   ]
  },
  {
   "cell_type": "code",
   "execution_count": 1,
   "metadata": {},
   "outputs": [],
   "source": [
    "# Import libraries and functions\n",
    "import pandas as pd # data manipulation & analysis"
   ]
  },
  {
   "cell_type": "code",
   "execution_count": 2,
   "metadata": {
    "tags": []
   },
   "outputs": [
    {
     "data": {
      "text/html": [
       "<div>\n",
       "<style scoped>\n",
       "    .dataframe tbody tr th:only-of-type {\n",
       "        vertical-align: middle;\n",
       "    }\n",
       "\n",
       "    .dataframe tbody tr th {\n",
       "        vertical-align: top;\n",
       "    }\n",
       "\n",
       "    .dataframe thead th {\n",
       "        text-align: right;\n",
       "    }\n",
       "</style>\n",
       "<table border=\"1\" class=\"dataframe\">\n",
       "  <thead>\n",
       "    <tr style=\"text-align: right;\">\n",
       "      <th></th>\n",
       "      <th>State Name</th>\n",
       "      <th>county Name</th>\n",
       "      <th>State Code</th>\n",
       "      <th>County Code</th>\n",
       "      <th>Date</th>\n",
       "      <th>AQI</th>\n",
       "      <th>Category</th>\n",
       "      <th>Defining Parameter</th>\n",
       "      <th>Defining Site</th>\n",
       "      <th>Number of Sites Reporting</th>\n",
       "    </tr>\n",
       "  </thead>\n",
       "  <tbody>\n",
       "    <tr>\n",
       "      <th>0</th>\n",
       "      <td>Alabama</td>\n",
       "      <td>Baldwin</td>\n",
       "      <td>1</td>\n",
       "      <td>3</td>\n",
       "      <td>2017-01-01</td>\n",
       "      <td>21</td>\n",
       "      <td>Good</td>\n",
       "      <td>PM2.5</td>\n",
       "      <td>01-003-0010</td>\n",
       "      <td>1</td>\n",
       "    </tr>\n",
       "    <tr>\n",
       "      <th>1</th>\n",
       "      <td>Alabama</td>\n",
       "      <td>Baldwin</td>\n",
       "      <td>1</td>\n",
       "      <td>3</td>\n",
       "      <td>2017-01-04</td>\n",
       "      <td>22</td>\n",
       "      <td>Good</td>\n",
       "      <td>PM2.5</td>\n",
       "      <td>01-003-0010</td>\n",
       "      <td>1</td>\n",
       "    </tr>\n",
       "  </tbody>\n",
       "</table>\n",
       "</div>"
      ],
      "text/plain": [
       "  State Name county Name  State Code  County Code        Date  AQI Category  \\\n",
       "0    Alabama     Baldwin           1            3  2017-01-01   21     Good   \n",
       "1    Alabama     Baldwin           1            3  2017-01-04   22     Good   \n",
       "\n",
       "  Defining Parameter Defining Site  Number of Sites Reporting  \n",
       "0              PM2.5   01-003-0010                          1  \n",
       "1              PM2.5   01-003-0010                          1  "
      ]
     },
     "execution_count": 2,
     "metadata": {},
     "output_type": "execute_result"
    }
   ],
   "source": [
    "# import AQI 2017 data\n",
    "# using the pandas read_csv function\n",
    "aqi_17 = pd.read_csv('https://aqs.epa.gov/aqsweb/airdata/daily_aqi_by_county_2017.zip')\n",
    "aqi_17.head(2) # check it imported by viewing top 2 rows"
   ]
  },
  {
   "cell_type": "code",
   "execution_count": 3,
   "metadata": {
    "tags": []
   },
   "outputs": [
    {
     "data": {
      "text/html": [
       "<div>\n",
       "<style scoped>\n",
       "    .dataframe tbody tr th:only-of-type {\n",
       "        vertical-align: middle;\n",
       "    }\n",
       "\n",
       "    .dataframe tbody tr th {\n",
       "        vertical-align: top;\n",
       "    }\n",
       "\n",
       "    .dataframe thead th {\n",
       "        text-align: right;\n",
       "    }\n",
       "</style>\n",
       "<table border=\"1\" class=\"dataframe\">\n",
       "  <thead>\n",
       "    <tr style=\"text-align: right;\">\n",
       "      <th></th>\n",
       "      <th>State Name</th>\n",
       "      <th>county Name</th>\n",
       "      <th>State Code</th>\n",
       "      <th>County Code</th>\n",
       "      <th>Date</th>\n",
       "      <th>AQI</th>\n",
       "      <th>Category</th>\n",
       "      <th>Defining Parameter</th>\n",
       "      <th>Defining Site</th>\n",
       "      <th>Number of Sites Reporting</th>\n",
       "    </tr>\n",
       "  </thead>\n",
       "  <tbody>\n",
       "    <tr>\n",
       "      <th>0</th>\n",
       "      <td>Alabama</td>\n",
       "      <td>Baldwin</td>\n",
       "      <td>1</td>\n",
       "      <td>3</td>\n",
       "      <td>2018-01-02</td>\n",
       "      <td>32</td>\n",
       "      <td>Good</td>\n",
       "      <td>PM2.5</td>\n",
       "      <td>01-003-0010</td>\n",
       "      <td>1</td>\n",
       "    </tr>\n",
       "    <tr>\n",
       "      <th>1</th>\n",
       "      <td>Alabama</td>\n",
       "      <td>Baldwin</td>\n",
       "      <td>1</td>\n",
       "      <td>3</td>\n",
       "      <td>2018-01-05</td>\n",
       "      <td>34</td>\n",
       "      <td>Good</td>\n",
       "      <td>PM2.5</td>\n",
       "      <td>01-003-0010</td>\n",
       "      <td>1</td>\n",
       "    </tr>\n",
       "  </tbody>\n",
       "</table>\n",
       "</div>"
      ],
      "text/plain": [
       "  State Name county Name  State Code  County Code        Date  AQI Category  \\\n",
       "0    Alabama     Baldwin           1            3  2018-01-02   32     Good   \n",
       "1    Alabama     Baldwin           1            3  2018-01-05   34     Good   \n",
       "\n",
       "  Defining Parameter Defining Site  Number of Sites Reporting  \n",
       "0              PM2.5   01-003-0010                          1  \n",
       "1              PM2.5   01-003-0010                          1  "
      ]
     },
     "execution_count": 3,
     "metadata": {},
     "output_type": "execute_result"
    }
   ],
   "source": [
    "# import AQI 2018 data\n",
    "# using the pandas read_csv function\n",
    "aqi_18 = pd.read_csv('https://aqs.epa.gov/aqsweb/airdata/daily_aqi_by_county_2018.zip')\n",
    "aqi_18.head(2) # check it imported by viewing top 2 rows"
   ]
  },
  {
   "cell_type": "markdown",
   "metadata": {},
   "source": [
    "### 1B: AQI Data Cleaning & Geographical Context"
   ]
  },
  {
   "cell_type": "code",
   "execution_count": 4,
   "metadata": {
    "tags": []
   },
   "outputs": [
    {
     "name": "stdout",
     "output_type": "stream",
     "text": [
      "number of columns in merged dataset:  654338\n",
      "expecting this number of rows:  654338\n",
      "updated column names:  ['state_name' 'county_name' 'state_code' 'county_code' 'date' 'aqi'\n",
      " 'category' 'defining_parameter' 'defining_site'\n",
      " 'number_of_sites_reporting']\n",
      "unique counties in santa barbara subset (expecting only Santa Barbara):  ['Santa Barbara']\n",
      "updated column names in sb subset:  ['date' 'aqi' 'category' 'defining_parameter' 'defining_site'\n",
      " 'number_of_sites_reporting']\n",
      "the data type for the date is now:  datetime64[ns]\n"
     ]
    },
    {
     "data": {
      "text/html": [
       "<div>\n",
       "<style scoped>\n",
       "    .dataframe tbody tr th:only-of-type {\n",
       "        vertical-align: middle;\n",
       "    }\n",
       "\n",
       "    .dataframe tbody tr th {\n",
       "        vertical-align: top;\n",
       "    }\n",
       "\n",
       "    .dataframe thead th {\n",
       "        text-align: right;\n",
       "    }\n",
       "</style>\n",
       "<table border=\"1\" class=\"dataframe\">\n",
       "  <thead>\n",
       "    <tr style=\"text-align: right;\">\n",
       "      <th></th>\n",
       "      <th>aqi</th>\n",
       "      <th>category</th>\n",
       "      <th>defining_parameter</th>\n",
       "      <th>defining_site</th>\n",
       "      <th>number_of_sites_reporting</th>\n",
       "    </tr>\n",
       "    <tr>\n",
       "      <th>date</th>\n",
       "      <th></th>\n",
       "      <th></th>\n",
       "      <th></th>\n",
       "      <th></th>\n",
       "      <th></th>\n",
       "    </tr>\n",
       "  </thead>\n",
       "  <tbody>\n",
       "    <tr>\n",
       "      <th>2017-01-01</th>\n",
       "      <td>39</td>\n",
       "      <td>Good</td>\n",
       "      <td>Ozone</td>\n",
       "      <td>06-083-4003</td>\n",
       "      <td>12</td>\n",
       "    </tr>\n",
       "    <tr>\n",
       "      <th>2017-01-02</th>\n",
       "      <td>36</td>\n",
       "      <td>Good</td>\n",
       "      <td>Ozone</td>\n",
       "      <td>06-083-4003</td>\n",
       "      <td>11</td>\n",
       "    </tr>\n",
       "  </tbody>\n",
       "</table>\n",
       "</div>"
      ],
      "text/plain": [
       "            aqi category defining_parameter defining_site  \\\n",
       "date                                                        \n",
       "2017-01-01   39     Good              Ozone   06-083-4003   \n",
       "2017-01-02   36     Good              Ozone   06-083-4003   \n",
       "\n",
       "            number_of_sites_reporting  \n",
       "date                                   \n",
       "2017-01-01                         12  \n",
       "2017-01-02                         11  "
      ]
     },
     "execution_count": 4,
     "metadata": {},
     "output_type": "execute_result"
    }
   ],
   "source": [
    "## AQI data cleaning\n",
    "# glue the 2017 and 2018 files together using concatenate\n",
    "aqi = pd.concat([aqi_17, aqi_18])\n",
    "print('number of columns in merged dataset: ', len(aqi))\n",
    "print('expecting this number of rows: ', len(aqi_17) + len(aqi_18))\n",
    "\n",
    "# clean column names: make all lower case and replace spaces with underscores\n",
    "aqi.columns = aqi.columns.str.lower().str.replace(' ','_')\n",
    "print('updated column names: ', aqi.columns.values) # confirm updated column names\n",
    "\n",
    "## Geographical context: Santa Barbara only\n",
    "# subset Santa Barbara: select rows where the county_name is santa barbara only\n",
    "aqi_sb=aqi.loc[aqi.county_name==\"Santa Barbara\"]\n",
    "print('unique counties in santa barbara subset (expecting only Santa Barbara): ', aqi_sb.county_name.unique())\n",
    "\n",
    "## More data cleaning\n",
    "# drop unecessary columns from subset: drop 'state_name', 'county_name', 'state_code' and 'county_code' columns\n",
    "aqi_sb = aqi_sb.drop(columns=['state_name', 'county_name', 'state_code','county_code'])\n",
    "print('updated column names in sb subset: ', aqi_sb.columns.values) # confirm updated column names\n",
    "\n",
    "# convert date column from string to timestamps\n",
    "aqi_sb.date = pd.to_datetime(aqi_sb.date)\n",
    "print('the data type for the date is now: ', aqi_sb.date.dtypes)\n",
    "\n",
    "# set date coumn as index\n",
    "aqi_sb = aqi_sb.set_index('date')\n",
    "aqi_sb.head(2) # check new index"
   ]
  },
  {
   "cell_type": "markdown",
   "metadata": {},
   "source": [
    "### 1C: AQI Data Exploration"
   ]
  },
  {
   "cell_type": "code",
   "execution_count": 5,
   "metadata": {
    "tags": []
   },
   "outputs": [
    {
     "name": "stdout",
     "output_type": "stream",
     "text": [
      "<class 'pandas.core.frame.DataFrame'>\n",
      "DatetimeIndex: 730 entries, 2017-01-01 to 2018-12-31\n",
      "Data columns (total 5 columns):\n",
      " #   Column                     Non-Null Count  Dtype \n",
      "---  ------                     --------------  ----- \n",
      " 0   aqi                        730 non-null    int64 \n",
      " 1   category                   730 non-null    object\n",
      " 2   defining_parameter         730 non-null    object\n",
      " 3   defining_site              730 non-null    object\n",
      " 4   number_of_sites_reporting  730 non-null    int64 \n",
      "dtypes: int64(2), object(3)\n",
      "memory usage: 34.2+ KB\n",
      "None\n",
      "the range of aqi values is:  20 - 281\n"
     ]
    },
    {
     "data": {
      "text/plain": [
       "<AxesSubplot:title={'center':'Exploratory plot of SB AQI dataset'}, xlabel='date'>"
      ]
     },
     "execution_count": 5,
     "metadata": {},
     "output_type": "execute_result"
    },
    {
     "data": {
      "image/png": "[encoded data removed]",
      "text/plain": [
       "<Figure size 640x480 with 1 Axes>"
      ]
     },
     "metadata": {},
     "output_type": "display_data"
    }
   ],
   "source": [
    "# AQI data\n",
    "# Let's explore the cleaned aqi data, that just has Santa Barbara, and includes 2017 and 2018\n",
    "\n",
    "# use the .info() function to see the datatypes, number of entries, and timeframe in the datetime index\n",
    "print(aqi_sb.info())\n",
    "\n",
    "# for fun, let's look at the range of the aqi values\n",
    "print('the range of aqi values is: ', aqi_sb.aqi.min(), '-', aqi_sb.aqi.max())\n",
    "\n",
    "aqi_sb.plot(title=\"Exploratory plot of SB AQI dataset\") #preliminary plot"
   ]
  },
  {
   "cell_type": "markdown",
   "metadata": {},
   "source": [
    "### 1D: AQI Data Analysis"
   ]
  },
  {
   "cell_type": "code",
   "execution_count": 6,
   "metadata": {
    "tags": []
   },
   "outputs": [
    {
     "name": "stdout",
     "output_type": "stream",
     "text": [
      "updated column names (checking the five_day_average showed up):  ['aqi' 'category' 'defining_parameter' 'defining_site'\n",
      " 'number_of_sites_reporting' 'five_day_average']\n",
      "the range of aqi 5 day average values is:  30.4 - 199.2\n"
     ]
    }
   ],
   "source": [
    "# AQI analysis\n",
    "# Broad goal: Determine if and how the AQI changes through time 2017-2018\n",
    "# More specifically, does the average 5-day AQI show any important patterns throughout 2017-2018, keeping the thomas fire in mind?\n",
    "\n",
    "# Analysis: calculate the 5-day rolling average and add it as a column\n",
    "\n",
    "# add column with 5 day average AQI and calculate the 5 day rolling average using the \"rolling\" function\n",
    "# '5D' corresponds to 5 day\n",
    "# .mean() because we want the average\n",
    "# adding a column using the syntax on the left\n",
    "\n",
    "aqi_sb['five_day_average'] = aqi_sb.aqi.rolling('5D').mean()\n",
    "\n",
    "# let's check that it worked! \n",
    "print('updated column names (checking the five_day_average showed up): ', aqi_sb.columns.values) # confirm updated column names\n",
    "# let's check the range of average values\n",
    "print('the range of aqi 5 day average values is: ', aqi_sb.five_day_average.min(), '-', aqi_sb.five_day_average.max())"
   ]
  },
  {
   "cell_type": "markdown",
   "metadata": {},
   "source": [
    "### 1E: AQI Data Visualization"
   ]
  },
  {
   "cell_type": "code",
   "execution_count": 7,
   "metadata": {
    "tags": []
   },
   "outputs": [
    {
     "data": {
      "text/plain": [
       "<AxesSubplot:title={'center':'AQI and Five-Day-Average AQI in Santa Barbara County'}, xlabel='Date', ylabel='AQI'>"
      ]
     },
     "execution_count": 7,
     "metadata": {},
     "output_type": "execute_result"
    },
    {
     "data": {
      "image/png": "[encoded data removed]",
      "text/plain": [
       "<Figure size 640x480 with 1 Axes>"
      ]
     },
     "metadata": {},
     "output_type": "display_data"
    }
   ],
   "source": [
    "# set plot colors using dictionary\n",
    "color = {'aqi':'#1e81b0',\n",
    "                 'five_day_average': '#eab676'\n",
    "                 }\n",
    "# cleate plot\n",
    "aqi_sb.plot(y=['aqi', 'five_day_average'], # list of column names\n",
    "        title = 'AQI and Five-Day-Average AQI in Santa Barbara County', # update title\n",
    "        xlabel='Date',\n",
    "        ylabel='AQI',\n",
    "        color=color # name of colors dictionary\n",
    "        )"
   ]
  },
  {
   "cell_type": "markdown",
   "metadata": {},
   "source": [
    "## False Color Image (1): Importing libraries and data"
   ]
  },
  {
   "cell_type": "code",
   "execution_count": 8,
   "metadata": {
    "tags": []
   },
   "outputs": [],
   "source": [
    "# Import libraries and functions\n",
    "import os # accessible file paths\n",
    "import numpy as np # math operations\n",
    "import pandas as pd # data manipulation & analysis\n",
    "import geopandas as gpd # geospatial data manipulation\n",
    "from shapely.geometry import Polygon\n",
    "import xarray as xr # for n-dimmensional array data\n",
    "import rioxarray as rioxr # for geospatial n-dimmensional array data\n",
    "from rasterio.features import rasterize # for rasterizing polygons\n",
    "# plotting\n",
    "import matplotlib.pyplot as plt # for plotting\n",
    "import matplotlib.patches as mpatches # for pretty legends"
   ]
  },
  {
   "cell_type": "code",
   "execution_count": 9,
   "metadata": {
    "tags": []
   },
   "outputs": [
    {
     "data": {
      "text/html": [
       "<div><svg style=\"position: absolute; width: 0; height: 0; overflow: hidden\">\n",
       "<defs>\n",
       "<symbol id=\"icon-database\" viewBox=\"0 0 32 32\">\n",
       "<path d=\"M16 0c-8.837 0-16 2.239-16 5v4c0 2.761 7.163 5 16 5s16-2.239 16-5v-4c0-2.761-7.163-5-16-5z\"></path>\n",
       "<path d=\"M16 17c-8.837 0-16-2.239-16-5v6c0 2.761 7.163 5 16 5s16-2.239 16-5v-6c0 2.761-7.163 5-16 5z\"></path>\n",
       "<path d=\"M16 26c-8.837 0-16-2.239-16-5v6c0 2.761 7.163 5 16 5s16-2.239 16-5v-6c0 2.761-7.163 5-16 5z\"></path>\n",
       "</symbol>\n",
       "<symbol id=\"icon-file-text2\" viewBox=\"0 0 32 32\">\n",
       "<path d=\"M28.681 7.159c-0.694-0.947-1.662-2.053-2.724-3.116s-2.169-2.030-3.116-2.724c-1.612-1.182-2.393-1.319-2.841-1.319h-15.5c-1.378 0-2.5 1.121-2.5 2.5v27c0 1.378 1.122 2.5 2.5 2.5h23c1.378 0 2.5-1.122 2.5-2.5v-19.5c0-0.448-0.137-1.23-1.319-2.841zM24.543 5.457c0.959 0.959 1.712 1.825 2.268 2.543h-4.811v-4.811c0.718 0.556 1.584 1.309 2.543 2.268zM28 29.5c0 0.271-0.229 0.5-0.5 0.5h-23c-0.271 0-0.5-0.229-0.5-0.5v-27c0-0.271 0.229-0.5 0.5-0.5 0 0 15.499-0 15.5 0v7c0 0.552 0.448 1 1 1h7v19.5z\"></path>\n",
       "<path d=\"M23 26h-14c-0.552 0-1-0.448-1-1s0.448-1 1-1h14c0.552 0 1 0.448 1 1s-0.448 1-1 1z\"></path>\n",
       "<path d=\"M23 22h-14c-0.552 0-1-0.448-1-1s0.448-1 1-1h14c0.552 0 1 0.448 1 1s-0.448 1-1 1z\"></path>\n",
       "<path d=\"M23 18h-14c-0.552 0-1-0.448-1-1s0.448-1 1-1h14c0.552 0 1 0.448 1 1s-0.448 1-1 1z\"></path>\n",
       "</symbol>\n",
       "</defs>\n",
       "</svg>\n",
       "<style>/* CSS stylesheet for displaying xarray objects in jupyterlab.\n",
       " *\n",
       " */\n",
       "\n",
       ":root {\n",
       "  --xr-font-color0: var(--jp-content-font-color0, rgba(0, 0, 0, 1));\n",
       "  --xr-font-color2: var(--jp-content-font-color2, rgba(0, 0, 0, 0.54));\n",
       "  --xr-font-color3: var(--jp-content-font-color3, rgba(0, 0, 0, 0.38));\n",
       "  --xr-border-color: var(--jp-border-color2, #e0e0e0);\n",
       "  --xr-disabled-color: var(--jp-layout-color3, #bdbdbd);\n",
       "  --xr-background-color: var(--jp-layout-color0, white);\n",
       "  --xr-background-color-row-even: var(--jp-layout-color1, white);\n",
       "  --xr-background-color-row-odd: var(--jp-layout-color2, #eeeeee);\n",
       "}\n",
       "\n",
       "html[theme=dark],\n",
       "body.vscode-dark {\n",
       "  --xr-font-color0: rgba(255, 255, 255, 1);\n",
       "  --xr-font-color2: rgba(255, 255, 255, 0.54);\n",
       "  --xr-font-color3: rgba(255, 255, 255, 0.38);\n",
       "  --xr-border-color: #1F1F1F;\n",
       "  --xr-disabled-color: #515151;\n",
       "  --xr-background-color: #111111;\n",
       "  --xr-background-color-row-even: #111111;\n",
       "  --xr-background-color-row-odd: #313131;\n",
       "}\n",
       "\n",
       ".xr-wrap {\n",
       "  display: block;\n",
       "  min-width: 300px;\n",
       "  max-width: 700px;\n",
       "}\n",
       "\n",
       ".xr-text-repr-fallback {\n",
       "  /* fallback to plain text repr when CSS is not injected (untrusted notebook) */\n",
       "  display: none;\n",
       "}\n",
       "\n",
       ".xr-header {\n",
       "  padding-top: 6px;\n",
       "  padding-bottom: 6px;\n",
       "  margin-bottom: 4px;\n",
       "  border-bottom: solid 1px var(--xr-border-color);\n",
       "}\n",
       "\n",
       ".xr-header > div,\n",
       ".xr-header > ul {\n",
       "  display: inline;\n",
       "  margin-top: 0;\n",
       "  margin-bottom: 0;\n",
       "}\n",
       "\n",
       ".xr-obj-type,\n",
       ".xr-array-name {\n",
       "  margin-left: 2px;\n",
       "  margin-right: 10px;\n",
       "}\n",
       "\n",
       ".xr-obj-type {\n",
       "  color: var(--xr-font-color2);\n",
       "}\n",
       "\n",
       ".xr-sections {\n",
       "  padding-left: 0 !important;\n",
       "  display: grid;\n",
       "  grid-template-columns: 150px auto auto 1fr 20px 20px;\n",
       "}\n",
       "\n",
       ".xr-section-item {\n",
       "  display: contents;\n",
       "}\n",
       "\n",
       ".xr-section-item input {\n",
       "  display: none;\n",
       "}\n",
       "\n",
       ".xr-section-item input + label {\n",
       "  color: var(--xr-disabled-color);\n",
       "}\n",
       "\n",
       ".xr-section-item input:enabled + label {\n",
       "  cursor: pointer;\n",
       "  color: var(--xr-font-color2);\n",
       "}\n",
       "\n",
       ".xr-section-item input:enabled + label:hover {\n",
       "  color: var(--xr-font-color0);\n",
       "}\n",
       "\n",
       ".xr-section-summary {\n",
       "  grid-column: 1;\n",
       "  color: var(--xr-font-color2);\n",
       "  font-weight: 500;\n",
       "}\n",
       "\n",
       ".xr-section-summary > span {\n",
       "  display: inline-block;\n",
       "  padding-left: 0.5em;\n",
       "}\n",
       "\n",
       ".xr-section-summary-in:disabled + label {\n",
       "  color: var(--xr-font-color2);\n",
       "}\n",
       "\n",
       ".xr-section-summary-in + label:before {\n",
       "  display: inline-block;\n",
       "  content: '►';\n",
       "  font-size: 11px;\n",
       "  width: 15px;\n",
       "  text-align: center;\n",
       "}\n",
       "\n",
       ".xr-section-summary-in:disabled + label:before {\n",
       "  color: var(--xr-disabled-color);\n",
       "}\n",
       "\n",
       ".xr-section-summary-in:checked + label:before {\n",
       "  content: '▼';\n",
       "}\n",
       "\n",
       ".xr-section-summary-in:checked + label > span {\n",
       "  display: none;\n",
       "}\n",
       "\n",
       ".xr-section-summary,\n",
       ".xr-section-inline-details {\n",
       "  padding-top: 4px;\n",
       "  padding-bottom: 4px;\n",
       "}\n",
       "\n",
       ".xr-section-inline-details {\n",
       "  grid-column: 2 / -1;\n",
       "}\n",
       "\n",
       ".xr-section-details {\n",
       "  display: none;\n",
       "  grid-column: 1 / -1;\n",
       "  margin-bottom: 5px;\n",
       "}\n",
       "\n",
       ".xr-section-summary-in:checked ~ .xr-section-details {\n",
       "  display: contents;\n",
       "}\n",
       "\n",
       ".xr-array-wrap {\n",
       "  grid-column: 1 / -1;\n",
       "  display: grid;\n",
       "  grid-template-columns: 20px auto;\n",
       "}\n",
       "\n",
       ".xr-array-wrap > label {\n",
       "  grid-column: 1;\n",
       "  vertical-align: top;\n",
       "}\n",
       "\n",
       ".xr-preview {\n",
       "  color: var(--xr-font-color3);\n",
       "}\n",
       "\n",
       ".xr-array-preview,\n",
       ".xr-array-data {\n",
       "  padding: 0 5px !important;\n",
       "  grid-column: 2;\n",
       "}\n",
       "\n",
       ".xr-array-data,\n",
       ".xr-array-in:checked ~ .xr-array-preview {\n",
       "  display: none;\n",
       "}\n",
       "\n",
       ".xr-array-in:checked ~ .xr-array-data,\n",
       ".xr-array-preview {\n",
       "  display: inline-block;\n",
       "}\n",
       "\n",
       ".xr-dim-list {\n",
       "  display: inline-block !important;\n",
       "  list-style: none;\n",
       "  padding: 0 !important;\n",
       "  margin: 0;\n",
       "}\n",
       "\n",
       ".xr-dim-list li {\n",
       "  display: inline-block;\n",
       "  padding: 0;\n",
       "  margin: 0;\n",
       "}\n",
       "\n",
       ".xr-dim-list:before {\n",
       "  content: '(';\n",
       "}\n",
       "\n",
       ".xr-dim-list:after {\n",
       "  content: ')';\n",
       "}\n",
       "\n",
       ".xr-dim-list li:not(:last-child):after {\n",
       "  content: ',';\n",
       "  padding-right: 5px;\n",
       "}\n",
       "\n",
       ".xr-has-index {\n",
       "  font-weight: bold;\n",
       "}\n",
       "\n",
       ".xr-var-list,\n",
       ".xr-var-item {\n",
       "  display: contents;\n",
       "}\n",
       "\n",
       ".xr-var-item > div,\n",
       ".xr-var-item label,\n",
       ".xr-var-item > .xr-var-name span {\n",
       "  background-color: var(--xr-background-color-row-even);\n",
       "  margin-bottom: 0;\n",
       "}\n",
       "\n",
       ".xr-var-item > .xr-var-name:hover span {\n",
       "  padding-right: 5px;\n",
       "}\n",
       "\n",
       ".xr-var-list > li:nth-child(odd) > div,\n",
       ".xr-var-list > li:nth-child(odd) > label,\n",
       ".xr-var-list > li:nth-child(odd) > .xr-var-name span {\n",
       "  background-color: var(--xr-background-color-row-odd);\n",
       "}\n",
       "\n",
       ".xr-var-name {\n",
       "  grid-column: 1;\n",
       "}\n",
       "\n",
       ".xr-var-dims {\n",
       "  grid-column: 2;\n",
       "}\n",
       "\n",
       ".xr-var-dtype {\n",
       "  grid-column: 3;\n",
       "  text-align: right;\n",
       "  color: var(--xr-font-color2);\n",
       "}\n",
       "\n",
       ".xr-var-preview {\n",
       "  grid-column: 4;\n",
       "}\n",
       "\n",
       ".xr-var-name,\n",
       ".xr-var-dims,\n",
       ".xr-var-dtype,\n",
       ".xr-preview,\n",
       ".xr-attrs dt {\n",
       "  white-space: nowrap;\n",
       "  overflow: hidden;\n",
       "  text-overflow: ellipsis;\n",
       "  padding-right: 10px;\n",
       "}\n",
       "\n",
       ".xr-var-name:hover,\n",
       ".xr-var-dims:hover,\n",
       ".xr-var-dtype:hover,\n",
       ".xr-attrs dt:hover {\n",
       "  overflow: visible;\n",
       "  width: auto;\n",
       "  z-index: 1;\n",
       "}\n",
       "\n",
       ".xr-var-attrs,\n",
       ".xr-var-data {\n",
       "  display: none;\n",
       "  background-color: var(--xr-background-color) !important;\n",
       "  padding-bottom: 5px !important;\n",
       "}\n",
       "\n",
       ".xr-var-attrs-in:checked ~ .xr-var-attrs,\n",
       ".xr-var-data-in:checked ~ .xr-var-data {\n",
       "  display: block;\n",
       "}\n",
       "\n",
       ".xr-var-data > table {\n",
       "  float: right;\n",
       "}\n",
       "\n",
       ".xr-var-name span,\n",
       ".xr-var-data,\n",
       ".xr-attrs {\n",
       "  padding-left: 25px !important;\n",
       "}\n",
       "\n",
       ".xr-attrs,\n",
       ".xr-var-attrs,\n",
       ".xr-var-data {\n",
       "  grid-column: 1 / -1;\n",
       "}\n",
       "\n",
       "dl.xr-attrs {\n",
       "  padding: 0;\n",
       "  margin: 0;\n",
       "  display: grid;\n",
       "  grid-template-columns: 125px auto;\n",
       "}\n",
       "\n",
       ".xr-attrs dt,\n",
       ".xr-attrs dd {\n",
       "  padding: 0;\n",
       "  margin: 0;\n",
       "  float: left;\n",
       "  padding-right: 10px;\n",
       "  width: auto;\n",
       "}\n",
       "\n",
       ".xr-attrs dt {\n",
       "  font-weight: normal;\n",
       "  grid-column: 1;\n",
       "}\n",
       "\n",
       ".xr-attrs dt:hover span {\n",
       "  display: inline-block;\n",
       "  background: var(--xr-background-color);\n",
       "  padding-right: 10px;\n",
       "}\n",
       "\n",
       ".xr-attrs dd {\n",
       "  grid-column: 2;\n",
       "  white-space: pre-wrap;\n",
       "  word-break: break-all;\n",
       "}\n",
       "\n",
       ".xr-icon-database,\n",
       ".xr-icon-file-text2 {\n",
       "  display: inline-block;\n",
       "  vertical-align: middle;\n",
       "  width: 1em;\n",
       "  height: 1.5em !important;\n",
       "  stroke-width: 0;\n",
       "  stroke: currentColor;\n",
       "  fill: currentColor;\n",
       "}\n",
       "</style><pre class='xr-text-repr-fallback'>&lt;xarray.Dataset&gt;\n",
       "Dimensions:      (y: 731, x: 870, band: 1)\n",
       "Coordinates:\n",
       "  * y            (y) float64 3.952e+06 3.952e+06 ... 3.756e+06 3.755e+06\n",
       "  * x            (x) float64 1.213e+05 1.216e+05 ... 3.557e+05 3.559e+05\n",
       "  * band         (band) int64 1\n",
       "    spatial_ref  int64 0\n",
       "Data variables:\n",
       "    red          (band, y, x) float64 ...\n",
       "    green        (band, y, x) float64 ...\n",
       "    blue         (band, y, x) float64 ...\n",
       "    nir08        (band, y, x) float64 ...\n",
       "    swir22       (band, y, x) float64 ...</pre><div class='xr-wrap' hidden><div class='xr-header'><div class='xr-obj-type'>xarray.Dataset</div></div><ul class='xr-sections'><li class='xr-section-item'><input id='section-ae70e718-ed23-4c8a-b331-c09e19941649' class='xr-section-summary-in' type='checkbox' disabled ><label for='section-ae70e718-ed23-4c8a-b331-c09e19941649' class='xr-section-summary'  title='Expand/collapse section'>Dimensions:</label><div class='xr-section-inline-details'><ul class='xr-dim-list'><li><span class='xr-has-index'>y</span>: 731</li><li><span class='xr-has-index'>x</span>: 870</li><li><span class='xr-has-index'>band</span>: 1</li></ul></div><div class='xr-section-details'></div></li><li class='xr-section-item'><input id='section-4b3e5d00-8cd5-4dc7-97dc-51866a8feddf' class='xr-section-summary-in' type='checkbox'  checked><label for='section-4b3e5d00-8cd5-4dc7-97dc-51866a8feddf' class='xr-section-summary' >Coordinates: <span>(4)</span></label><div class='xr-section-inline-details'></div><div class='xr-section-details'><ul class='xr-var-list'><li class='xr-var-item'><div class='xr-var-name'><span class='xr-has-index'>y</span></div><div class='xr-var-dims'>(y)</div><div class='xr-var-dtype'>float64</div><div class='xr-var-preview xr-preview'>3.952e+06 3.952e+06 ... 3.755e+06</div><input id='attrs-9f13087a-b311-49f7-a561-d7c823dc7618' class='xr-var-attrs-in' type='checkbox' ><label for='attrs-9f13087a-b311-49f7-a561-d7c823dc7618' title='Show/Hide attributes'><svg class='icon xr-icon-file-text2'><use xlink:href='#icon-file-text2'></use></svg></label><input id='data-6e233b65-1948-40c0-9fe9-c027c52cf524' class='xr-var-data-in' type='checkbox'><label for='data-6e233b65-1948-40c0-9fe9-c027c52cf524' title='Show/Hide data repr'><svg class='icon xr-icon-database'><use xlink:href='#icon-database'></use></svg></label><div class='xr-var-attrs'><dl class='xr-attrs'><dt><span>axis :</span></dt><dd>Y</dd><dt><span>crs :</span></dt><dd>EPSG:32611</dd><dt><span>long_name :</span></dt><dd>y coordinate of projection</dd><dt><span>resolution :</span></dt><dd>-30</dd><dt><span>standard_name :</span></dt><dd>projection_y_coordinate</dd><dt><span>units :</span></dt><dd>metre</dd><dt><span>_FillValue :</span></dt><dd>nan</dd></dl></div><div class='xr-var-data'><pre>array([3952395., 3952125., 3951855., ..., 3755835., 3755565., 3755295.])</pre></div></li><li class='xr-var-item'><div class='xr-var-name'><span class='xr-has-index'>x</span></div><div class='xr-var-dims'>(x)</div><div class='xr-var-dtype'>float64</div><div class='xr-var-preview xr-preview'>1.213e+05 1.216e+05 ... 3.559e+05</div><input id='attrs-213fd1ad-8b21-4c16-aabf-fff1edead61e' class='xr-var-attrs-in' type='checkbox' ><label for='attrs-213fd1ad-8b21-4c16-aabf-fff1edead61e' title='Show/Hide attributes'><svg class='icon xr-icon-file-text2'><use xlink:href='#icon-file-text2'></use></svg></label><input id='data-db73737b-5b74-4ce6-80fe-ce9afecf63e1' class='xr-var-data-in' type='checkbox'><label for='data-db73737b-5b74-4ce6-80fe-ce9afecf63e1' title='Show/Hide data repr'><svg class='icon xr-icon-database'><use xlink:href='#icon-database'></use></svg></label><div class='xr-var-attrs'><dl class='xr-attrs'><dt><span>axis :</span></dt><dd>X</dd><dt><span>crs :</span></dt><dd>EPSG:32611</dd><dt><span>long_name :</span></dt><dd>x coordinate of projection</dd><dt><span>resolution :</span></dt><dd>30</dd><dt><span>standard_name :</span></dt><dd>projection_x_coordinate</dd><dt><span>units :</span></dt><dd>metre</dd><dt><span>_FillValue :</span></dt><dd>nan</dd></dl></div><div class='xr-var-data'><pre>array([121305., 121575., 121845., ..., 355395., 355665., 355935.])</pre></div></li><li class='xr-var-item'><div class='xr-var-name'><span class='xr-has-index'>band</span></div><div class='xr-var-dims'>(band)</div><div class='xr-var-dtype'>int64</div><div class='xr-var-preview xr-preview'>1</div><input id='attrs-76ee749b-2777-41bf-89a6-5fe335ccc2d1' class='xr-var-attrs-in' type='checkbox' disabled><label for='attrs-76ee749b-2777-41bf-89a6-5fe335ccc2d1' title='Show/Hide attributes'><svg class='icon xr-icon-file-text2'><use xlink:href='#icon-file-text2'></use></svg></label><input id='data-7f4ab673-a2e3-45b8-a01d-9a540df1e186' class='xr-var-data-in' type='checkbox'><label for='data-7f4ab673-a2e3-45b8-a01d-9a540df1e186' title='Show/Hide data repr'><svg class='icon xr-icon-database'><use xlink:href='#icon-database'></use></svg></label><div class='xr-var-attrs'><dl class='xr-attrs'></dl></div><div class='xr-var-data'><pre>array([1])</pre></div></li><li class='xr-var-item'><div class='xr-var-name'><span>spatial_ref</span></div><div class='xr-var-dims'>()</div><div class='xr-var-dtype'>int64</div><div class='xr-var-preview xr-preview'>0</div><input id='attrs-f10af257-58d3-469a-8f8a-a5ebd0d01fa4' class='xr-var-attrs-in' type='checkbox' ><label for='attrs-f10af257-58d3-469a-8f8a-a5ebd0d01fa4' title='Show/Hide attributes'><svg class='icon xr-icon-file-text2'><use xlink:href='#icon-file-text2'></use></svg></label><input id='data-8d4ee916-8fd1-499c-b61a-70db368037a5' class='xr-var-data-in' type='checkbox'><label for='data-8d4ee916-8fd1-499c-b61a-70db368037a5' title='Show/Hide data repr'><svg class='icon xr-icon-database'><use xlink:href='#icon-database'></use></svg></label><div class='xr-var-attrs'><dl class='xr-attrs'><dt><span>crs_wkt :</span></dt><dd>PROJCS[&quot;WGS 84 / UTM zone 11N&quot;,GEOGCS[&quot;WGS 84&quot;,DATUM[&quot;WGS_1984&quot;,SPHEROID[&quot;WGS 84&quot;,6378137,298.257223563]],PRIMEM[&quot;Greenwich&quot;,0],UNIT[&quot;degree&quot;,0.0174532925199433,AUTHORITY[&quot;EPSG&quot;,&quot;9122&quot;]],AUTHORITY[&quot;EPSG&quot;,&quot;4326&quot;]],PROJECTION[&quot;Transverse_Mercator&quot;],PARAMETER[&quot;latitude_of_origin&quot;,0],PARAMETER[&quot;central_meridian&quot;,-117],PARAMETER[&quot;scale_factor&quot;,0.9996],PARAMETER[&quot;false_easting&quot;,500000],PARAMETER[&quot;false_northing&quot;,0],UNIT[&quot;metre&quot;,1],AXIS[&quot;Easting&quot;,EAST],AXIS[&quot;Northing&quot;,NORTH],AUTHORITY[&quot;EPSG&quot;,&quot;32611&quot;]]</dd><dt><span>semi_major_axis :</span></dt><dd>6378137.0</dd><dt><span>semi_minor_axis :</span></dt><dd>6356752.314245179</dd><dt><span>inverse_flattening :</span></dt><dd>298.257223563</dd><dt><span>reference_ellipsoid_name :</span></dt><dd>WGS 84</dd><dt><span>longitude_of_prime_meridian :</span></dt><dd>0.0</dd><dt><span>prime_meridian_name :</span></dt><dd>Greenwich</dd><dt><span>geographic_crs_name :</span></dt><dd>WGS 84</dd><dt><span>horizontal_datum_name :</span></dt><dd>World Geodetic System 1984</dd><dt><span>projected_crs_name :</span></dt><dd>WGS 84 / UTM zone 11N</dd><dt><span>grid_mapping_name :</span></dt><dd>transverse_mercator</dd><dt><span>latitude_of_projection_origin :</span></dt><dd>0.0</dd><dt><span>longitude_of_central_meridian :</span></dt><dd>-117.0</dd><dt><span>false_easting :</span></dt><dd>500000.0</dd><dt><span>false_northing :</span></dt><dd>0.0</dd><dt><span>scale_factor_at_central_meridian :</span></dt><dd>0.9996</dd><dt><span>spatial_ref :</span></dt><dd>PROJCS[&quot;WGS 84 / UTM zone 11N&quot;,GEOGCS[&quot;WGS 84&quot;,DATUM[&quot;WGS_1984&quot;,SPHEROID[&quot;WGS 84&quot;,6378137,298.257223563]],PRIMEM[&quot;Greenwich&quot;,0],UNIT[&quot;degree&quot;,0.0174532925199433,AUTHORITY[&quot;EPSG&quot;,&quot;9122&quot;]],AUTHORITY[&quot;EPSG&quot;,&quot;4326&quot;]],PROJECTION[&quot;Transverse_Mercator&quot;],PARAMETER[&quot;latitude_of_origin&quot;,0],PARAMETER[&quot;central_meridian&quot;,-117],PARAMETER[&quot;scale_factor&quot;,0.9996],PARAMETER[&quot;false_easting&quot;,500000],PARAMETER[&quot;false_northing&quot;,0],UNIT[&quot;metre&quot;,1],AXIS[&quot;Easting&quot;,EAST],AXIS[&quot;Northing&quot;,NORTH],AUTHORITY[&quot;EPSG&quot;,&quot;32611&quot;]]</dd><dt><span>GeoTransform :</span></dt><dd>121170.0 270.0 0.0 3952530.0 0.0 -270.0</dd></dl></div><div class='xr-var-data'><pre>array(0)</pre></div></li></ul></div></li><li class='xr-section-item'><input id='section-41cbd8d0-b5d1-4295-a5cd-b89531cc2135' class='xr-section-summary-in' type='checkbox'  checked><label for='section-41cbd8d0-b5d1-4295-a5cd-b89531cc2135' class='xr-section-summary' >Data variables: <span>(5)</span></label><div class='xr-section-inline-details'></div><div class='xr-section-details'><ul class='xr-var-list'><li class='xr-var-item'><div class='xr-var-name'><span>red</span></div><div class='xr-var-dims'>(band, y, x)</div><div class='xr-var-dtype'>float64</div><div class='xr-var-preview xr-preview'>...</div><input id='attrs-32c66d55-e419-4e62-b6b6-b5bbc4dc0fab' class='xr-var-attrs-in' type='checkbox' ><label for='attrs-32c66d55-e419-4e62-b6b6-b5bbc4dc0fab' title='Show/Hide attributes'><svg class='icon xr-icon-file-text2'><use xlink:href='#icon-file-text2'></use></svg></label><input id='data-5cdf0a30-75b6-4abe-881a-db5fa2d7dabe' class='xr-var-data-in' type='checkbox'><label for='data-5cdf0a30-75b6-4abe-881a-db5fa2d7dabe' title='Show/Hide data repr'><svg class='icon xr-icon-database'><use xlink:href='#icon-database'></use></svg></label><div class='xr-var-attrs'><dl class='xr-attrs'><dt><span>add_offset :</span></dt><dd>0.0</dd><dt><span>coordinates :</span></dt><dd>time</dd><dt><span>scale_factor :</span></dt><dd>1.0</dd><dt><span>_FillValue :</span></dt><dd>0.0</dd></dl></div><div class='xr-var-data'><pre>[635970 values with dtype=float64]</pre></div></li><li class='xr-var-item'><div class='xr-var-name'><span>green</span></div><div class='xr-var-dims'>(band, y, x)</div><div class='xr-var-dtype'>float64</div><div class='xr-var-preview xr-preview'>...</div><input id='attrs-f02f1af5-a579-412f-9436-ecbc097885e0' class='xr-var-attrs-in' type='checkbox' ><label for='attrs-f02f1af5-a579-412f-9436-ecbc097885e0' title='Show/Hide attributes'><svg class='icon xr-icon-file-text2'><use xlink:href='#icon-file-text2'></use></svg></label><input id='data-716df22c-fd34-46fc-9238-a7175a9d60ca' class='xr-var-data-in' type='checkbox'><label for='data-716df22c-fd34-46fc-9238-a7175a9d60ca' title='Show/Hide data repr'><svg class='icon xr-icon-database'><use xlink:href='#icon-database'></use></svg></label><div class='xr-var-attrs'><dl class='xr-attrs'><dt><span>add_offset :</span></dt><dd>0.0</dd><dt><span>coordinates :</span></dt><dd>time</dd><dt><span>scale_factor :</span></dt><dd>1.0</dd><dt><span>_FillValue :</span></dt><dd>0.0</dd></dl></div><div class='xr-var-data'><pre>[635970 values with dtype=float64]</pre></div></li><li class='xr-var-item'><div class='xr-var-name'><span>blue</span></div><div class='xr-var-dims'>(band, y, x)</div><div class='xr-var-dtype'>float64</div><div class='xr-var-preview xr-preview'>...</div><input id='attrs-8100dc2b-96fd-4922-84bb-910f06c7857e' class='xr-var-attrs-in' type='checkbox' ><label for='attrs-8100dc2b-96fd-4922-84bb-910f06c7857e' title='Show/Hide attributes'><svg class='icon xr-icon-file-text2'><use xlink:href='#icon-file-text2'></use></svg></label><input id='data-9ca3667b-b6ea-4242-90db-8c4a6a904d9d' class='xr-var-data-in' type='checkbox'><label for='data-9ca3667b-b6ea-4242-90db-8c4a6a904d9d' title='Show/Hide data repr'><svg class='icon xr-icon-database'><use xlink:href='#icon-database'></use></svg></label><div class='xr-var-attrs'><dl class='xr-attrs'><dt><span>add_offset :</span></dt><dd>0.0</dd><dt><span>coordinates :</span></dt><dd>time</dd><dt><span>scale_factor :</span></dt><dd>1.0</dd><dt><span>_FillValue :</span></dt><dd>0.0</dd></dl></div><div class='xr-var-data'><pre>[635970 values with dtype=float64]</pre></div></li><li class='xr-var-item'><div class='xr-var-name'><span>nir08</span></div><div class='xr-var-dims'>(band, y, x)</div><div class='xr-var-dtype'>float64</div><div class='xr-var-preview xr-preview'>...</div><input id='attrs-be566273-9403-49fa-83ab-3bcd7fa5a51a' class='xr-var-attrs-in' type='checkbox' ><label for='attrs-be566273-9403-49fa-83ab-3bcd7fa5a51a' title='Show/Hide attributes'><svg class='icon xr-icon-file-text2'><use xlink:href='#icon-file-text2'></use></svg></label><input id='data-6928bf2d-edb3-4a29-879e-601426ccb532' class='xr-var-data-in' type='checkbox'><label for='data-6928bf2d-edb3-4a29-879e-601426ccb532' title='Show/Hide data repr'><svg class='icon xr-icon-database'><use xlink:href='#icon-database'></use></svg></label><div class='xr-var-attrs'><dl class='xr-attrs'><dt><span>add_offset :</span></dt><dd>0.0</dd><dt><span>coordinates :</span></dt><dd>time</dd><dt><span>scale_factor :</span></dt><dd>1.0</dd><dt><span>_FillValue :</span></dt><dd>0.0</dd></dl></div><div class='xr-var-data'><pre>[635970 values with dtype=float64]</pre></div></li><li class='xr-var-item'><div class='xr-var-name'><span>swir22</span></div><div class='xr-var-dims'>(band, y, x)</div><div class='xr-var-dtype'>float64</div><div class='xr-var-preview xr-preview'>...</div><input id='attrs-019e311e-7105-49ad-b0b0-b58b4cff29d3' class='xr-var-attrs-in' type='checkbox' ><label for='attrs-019e311e-7105-49ad-b0b0-b58b4cff29d3' title='Show/Hide attributes'><svg class='icon xr-icon-file-text2'><use xlink:href='#icon-file-text2'></use></svg></label><input id='data-ba3a0777-4862-47e3-a032-780f67436dcd' class='xr-var-data-in' type='checkbox'><label for='data-ba3a0777-4862-47e3-a032-780f67436dcd' title='Show/Hide data repr'><svg class='icon xr-icon-database'><use xlink:href='#icon-database'></use></svg></label><div class='xr-var-attrs'><dl class='xr-attrs'><dt><span>add_offset :</span></dt><dd>0.0</dd><dt><span>coordinates :</span></dt><dd>time</dd><dt><span>scale_factor :</span></dt><dd>1.0</dd><dt><span>_FillValue :</span></dt><dd>0.0</dd></dl></div><div class='xr-var-data'><pre>[635970 values with dtype=float64]</pre></div></li></ul></div></li><li class='xr-section-item'><input id='section-8e41aef8-aac8-4cf5-a5d6-bad8b5dce172' class='xr-section-summary-in' type='checkbox' disabled ><label for='section-8e41aef8-aac8-4cf5-a5d6-bad8b5dce172' class='xr-section-summary'  title='Expand/collapse section'>Attributes: <span>(0)</span></label><div class='xr-section-inline-details'></div><div class='xr-section-details'><dl class='xr-attrs'></dl></div></li></ul></div></div>"
      ],
      "text/plain": [
       "<xarray.Dataset>\n",
       "Dimensions:      (y: 731, x: 870, band: 1)\n",
       "Coordinates:\n",
       "  * y            (y) float64 3.952e+06 3.952e+06 ... 3.756e+06 3.755e+06\n",
       "  * x            (x) float64 1.213e+05 1.216e+05 ... 3.557e+05 3.559e+05\n",
       "  * band         (band) int64 1\n",
       "    spatial_ref  int64 0\n",
       "Data variables:\n",
       "    red          (band, y, x) float64 ...\n",
       "    green        (band, y, x) float64 ...\n",
       "    blue         (band, y, x) float64 ...\n",
       "    nir08        (band, y, x) float64 ...\n",
       "    swir22       (band, y, x) float64 ..."
      ]
     },
     "execution_count": 9,
     "metadata": {},
     "output_type": "execute_result"
    }
   ],
   "source": [
    "# import landsat data\n",
    "# using rasterio \n",
    "# use the os to get the current working directory\n",
    "land_fp = os.path.join(os.getcwd(),'data','landsat8-2018-01-26-sb-simplified.nc')\n",
    "land = rioxr.open_rasterio(land_fp) # use this for geospatial raster data\n",
    "land # check it imported"
   ]
  },
  {
   "cell_type": "code",
   "execution_count": null,
   "metadata": {
    "tags": []
   },
   "outputs": [],
   "source": [
    "# fire perimeters in California during 2017\n",
    "# using geopandas\n",
    "# use the os to get the current working directory\n",
    "fire_fp = os.path.join(os.getcwd(),'data','California_Fire_Perimeters_2017','California_Fire_Perimeters_2017.shp')\n",
    "fire = gpd.read_file(fire_fp) # use gpd to read the file because it's a shapefile\n",
    "fire.head(2) # check it imported by viewing top 2 rows"
   ]
  },
  {
   "cell_type": "markdown",
   "metadata": {},
   "source": [
    "## False Color Image (2): Data cleaning and geographical context of data"
   ]
  },
  {
   "cell_type": "code",
   "execution_count": null,
   "metadata": {
    "tags": []
   },
   "outputs": [],
   "source": [
    "# Landsat data cleaning and geographic context\n",
    "# Raster reduction: drop the bands in land data\n",
    "\n",
    "# remove length 1 dimension (band)\n",
    "land = land.squeeze()\n",
    "\n",
    "# remove coordinates associated to band\n",
    "land = land.drop('band')\n",
    "land"
   ]
  },
  {
   "cell_type": "code",
   "execution_count": null,
   "metadata": {
    "tags": []
   },
   "outputs": [],
   "source": [
    "# Fire perimeters data cleaning\n",
    "\n",
    "# make sure CRS' match\n",
    "fire_reprojected = fire.to_crs(land.rio.crs) # change to the land crs\n",
    "print('matched crs?',  fire_reprojected.crs == land.rio.crs) # ensure they match\n",
    "\n",
    "# subset only thomas fire\n",
    "fire_clipped = fire_reprojected[(fire_reprojected.FIRE_NAME=='THOMAS')]\n",
    "\n",
    "# ensure it worked\n",
    "print('unique fire names in clipped subset (expecting only THOMAS): ', fire_clipped.FIRE_NAME.unique())"
   ]
  },
  {
   "cell_type": "markdown",
   "metadata": {},
   "source": [
    "## False Color Image (3) Data Exploration"
   ]
  },
  {
   "cell_type": "code",
   "execution_count": null,
   "metadata": {
    "tags": []
   },
   "outputs": [],
   "source": [
    "# Landsat data exploration\n",
    "# check crs, height, width, bounding box\n",
    "print('CRS: ', land.rio.crs)\n",
    "print('height: ', land.rio.height)\n",
    "print('width: ', land.rio.width, '\\n')\n",
    "\n",
    "print('spatial bounding box: ')\n",
    "print(land.rio.bounds(), '\\n')\n",
    "\n",
    "# look at the data\n",
    "land"
   ]
  },
  {
   "cell_type": "code",
   "execution_count": null,
   "metadata": {
    "tags": []
   },
   "outputs": [],
   "source": [
    "# Fire perimeters data exploration\n",
    "# check original crs and updated crs:\n",
    "print('original crs: ',  fire.crs, 'updated crs: ', fire_clipped.crs)\n",
    "\n",
    "# let's get some info on the original and updated datasets\n",
    "print('original dataset info: ', fire.info())\n",
    "print('updated dataset info: ', fire_clipped.info())\n",
    "\n",
    "# data exploration continued\n",
    "# let's compare the full dataset to the dataset with only thomas fire\n",
    "fire.plot() # whole dataset"
   ]
  },
  {
   "cell_type": "code",
   "execution_count": null,
   "metadata": {
    "tags": []
   },
   "outputs": [],
   "source": [
    "# data exploration continued\n",
    "fire_clipped.plot() # just the thomas fire"
   ]
  },
  {
   "cell_type": "markdown",
   "metadata": {},
   "source": [
    "## False Color Image (4) Analysis"
   ]
  },
  {
   "cell_type": "code",
   "execution_count": null,
   "metadata": {
    "tags": []
   },
   "outputs": [],
   "source": [
    "# false color image: short-wave infrared (swir22), near-infrared, and red variables (in that order)\n",
    "# robust = True: \"colormap range is computed with 2nd and 98th percentiles instead of the extreme values\" from documentation\n",
    "land[['swir22','nir08','red']].to_array().plot.imshow(robust=True)"
   ]
  },
  {
   "cell_type": "code",
   "execution_count": null,
   "metadata": {
    "tags": []
   },
   "outputs": [],
   "source": [
    "# add in the thomas fire outline\n",
    "fig, ax= plt.subplots()\n",
    "ax.axis('off') # remove the pesky box\n",
    "\n",
    "#----------------------------------\n",
    "# False color image\n",
    "land[['swir22','nir08','red']].to_array().plot.imshow(robust=True, ax=ax)\n",
    "#----------------------------------\n",
    "# thomas fire\n",
    "fire_clipped.plot(ax=ax, edgecolor='blue', facecolor=\"none\")\n",
    "# make legend pretty\n",
    "bbox_patch = mpatches.Patch(color='blue', label = 'Thomas Fire Boundary')\n",
    "\n",
    "#----------------------------------\n",
    "# create a legend\n",
    "ax.legend(handles = [bbox_patch], loc='upper right')\n",
    "\n",
    "# add a title\n",
    "ax.set_title('False Color Image showing Thomas Fire Boundary', fontsize=20)\n",
    "\n",
    "plt.show()"
   ]
  },
  {
   "cell_type": "markdown",
   "metadata": {},
   "source": [
    "## 5. Final outputs"
   ]
  },
  {
   "cell_type": "code",
   "execution_count": null,
   "metadata": {
    "tags": []
   },
   "outputs": [],
   "source": [
    "# AQI through time\n",
    "# set plot colors using dictionary\n",
    "color = {'aqi':'#1e81b0',\n",
    "                 'five_day_average': '#eab676'\n",
    "                 }\n",
    "# cleate plot\n",
    "aqi_sb.plot(y=['aqi', 'five_day_average'], # list of column names\n",
    "        title = 'AQI and Five-Day-Average AQI in Santa Barbara County', # update title\n",
    "        xlabel='Date',\n",
    "        ylabel='AQI',\n",
    "        color=color # name of colors dictionary\n",
    "        )"
   ]
  },
  {
   "cell_type": "code",
   "execution_count": null,
   "metadata": {
    "tags": []
   },
   "outputs": [],
   "source": [
    "# False color image:\n",
    "fig, ax= plt.subplots()\n",
    "ax.axis('off') # remove the pesky box\n",
    "\n",
    "#----------------------------------\n",
    "# False color image\n",
    "land[['swir22','nir08','red']].to_array().plot.imshow(robust=True, ax=ax)\n",
    "#----------------------------------\n",
    "# thomas fire\n",
    "fire_clipped.plot(ax=ax, edgecolor='blue', facecolor=\"none\")\n",
    "# make legend pretty\n",
    "bbox_patch = mpatches.Patch(color='blue', label = 'Thomas Fire Boundary')\n",
    "\n",
    "#----------------------------------\n",
    "# create a legend\n",
    "ax.legend(handles = [bbox_patch], loc='upper right')\n",
    "\n",
    "# add a title\n",
    "ax.set_title('False Color Image showing Thomas Fire Boundary', fontsize=20)\n",
    "\n",
    "plt.show()"
   ]
  }
 ],
 "metadata": {
  "kernelspec": {
   "display_name": "Anaconda 3 (Base)",
   "language": "python",
   "name": "base"
  },
  "language_info": {
   "codemirror_mode": {
    "name": "ipython",
    "version": 3
   },
   "file_extension": ".py",
   "mimetype": "text/x-python",
   "name": "python",
   "nbconvert_exporter": "python",
   "pygments_lexer": "ipython3",
   "version": "3.9.13"
  },
  "vscode": {
   "interpreter": {
    "hash": "096ff075efa46b48fdc6093cb088d328f1206dfedfbeb0f42cf6b14174f51118"
   }
  }
 },
 "nbformat": 4,
 "nbformat_minor": 4
}
